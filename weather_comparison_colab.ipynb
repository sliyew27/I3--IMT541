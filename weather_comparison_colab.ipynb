{
 "cells": [
  {
   "cell_type": "markdown",
   "id": "cell-01",
   "metadata": {},
   "source": [
    "<a href=\"https://colab.research.google.com/github/sliyew27/I3--IMT541/blob/main/weather_comparison_colab.ipynb\" target=\"_blank\">\n",
    "  <img src=\"https://colab.research.google.com/assets/colab-badge.svg\" alt=\"Open in Colab\"/>\n",
    "</a>"
   ]
  },
  {
   "cell_type": "markdown",
   "id": "cell-02",
   "metadata": {},
   "source": [
    "# Weather Comparison: Addis Ababa vs Seattle (April 17–27, 2025)\n",
    "\n",
    "This notebook compares the daily **temperature** and **precipitation** between **Addis Ababa** and **Seattle** over a 10-day period using structured CSV data.\n",
    "\n",
    "It generates two visual graphs:\n",
    "- Maximum and minimum daily temperatures\n",
    "- Daily precipitation levels"
   ]
  },
  {
   "cell_type": "code",
   "execution_count": null,
   "id": "cell-03",
   "metadata": {},
   "outputs": [],
   "source": [
    "# Import required libraries\n",
    "import pandas as pd\n",
    "import matplotlib.pyplot as plt\n",
    "\n",
    "# Load dataset directly from GitHub\n",
    "csv_url = \"https://raw.githubusercontent.com/sliyew27/I3--IMT541/main/addis_seattle_combined_4_17_to_4_27.csv\"\n",
    "df = pd.read_csv(csv_url)\n",
    "\n",
    "# Convert date column to datetime\n",
    "df['date'] = pd.to_datetime(df['date'])"
   ]
  },
  {
   "cell_type": "code",
   "execution_count": null,
   "id": "cell-04",
   "metadata": {},
   "outputs": [],
   "source": [
    "# Plot max and min temperatures\n",
    "plt.figure(figsize=(12, 6))\n",
    "\n",
    "plt.plot(df['date'], df['temp_max Addis'], label='Max Temp - Addis Ababa', marker='o')\n",
    "plt.plot(df['date'], df['temp_min Addis'], label='Min Temp - Addis Ababa', linestyle='--', marker='o')\n",
    "plt.plot(df['date'], df['temp_max Seattle'], label='Max Temp - Seattle', marker='s')\n",
    "plt.plot(df['date'], df['temp_min Seattle'], label='Min Temp - Seattle', linestyle='--', marker='s')\n",
    "\n",
    "plt.title('Daily High and Low Temperatures: Addis Ababa vs Seattle (April 17–27, 2025)')\n",
    "plt.xlabel('Date')\n",
    "plt.ylabel('Temperature (°F)')\n",
    "plt.xticks(rotation=45)\n",
    "plt.legend()\n",
    "plt.grid(True)\n",
    "plt.tight_layout()\n",
    "plt.show()"
   ]
  },
  {
   "cell_type": "code",
   "execution_count": null,
   "id": "cell-05",
   "metadata": {},
   "outputs": [],
   "source": [
    "# Convert precipitation columns to float\n",
    "df['precipitation Addis'] = df['precipitation Addis'].astype(float)\n",
    "df['precipitation Seattle'] = df['precipitation Seattle'].astype(float)\n",
    "\n",
    "# Plot precipitation\n",
    "plt.figure(figsize=(12, 6))\n",
    "\n",
    "plt.plot(df['date'], df['precipitation Addis'], label='Precipitation - Addis Ababa', marker='o')\n",
    "plt.plot(df['date'], df['precipitation Seattle'], label='Precipitation - Seattle', marker='s')\n",
    "\n",
    "plt.title('Daily Precipitation: Addis Ababa vs Seattle (April 17–27, 2025)')\n",
    "plt.xlabel('Date')\n",
    "plt.ylabel('Precipitation (inches)')\n",
    "plt.xticks(rotation=45)\n",
    "plt.legend()\n",
    "plt.grid(True)\n",
    "plt.tight_layout()\n",
    "plt.show()"
   ]
  }
 ],
 "metadata": {
  "colab": {
   "authorship_tag": "ABX9TyMPColabLinkFinal",
   "include_colab_link": true,
   "provenance": []
  },
  "kernelspec": {
   "display_name": "Python 3",
   "name": "python3"
  },
  "language_info": {
   "name": "python"
  }
 },
 "nbformat": 4,
 "nbformat_minor": 5
}
import nbformat as nbf

# Create the notebook
nb = nbf.v4.new_notebook()

# Cells
cells = [
    nbf.v4.new_markdown_cell(
        '<a href="https://colab.research.google.com/github/sliyew27/I3--IMT541/blob/main/weather_comparison_colab.ipynb" target="_blank">\n'
        '  <img src="https://colab.research.google.com/assets/colab-badge.svg" alt="Open in Colab"/>\n'
        '</a>'
    ),
    nbf.v4.new_markdown_cell(
        "# Weather Comparison: Addis Ababa vs Seattle (April 17–27, 2025)\n\n"
        "This notebook compares the daily **temperature** and **precipitation** between **Addis Ababa** and **Seattle** over a 10-day period using structured CSV data.\n\n"
        "It generates two visual graphs:\n"
        "- Maximum and minimum daily temperatures\n"
        "- Daily precipitation levels"
    ),
    nbf.v4.new_code_cell(
        "# Import required libraries\n"
        "import pandas as pd\n"
        "import matplotlib.pyplot as plt\n\n"
        "# Load dataset directly from GitHub\n"
        "csv_url = \"https://raw.githubusercontent.com/sliyew27/I3--IMT541/main/addis_seattle_combined_4_17_to_4_27.csv\"\n"
        "df = pd.read_csv(csv_url)\n\n"
        "# Convert date column to datetime\n"
        "df['date'] = pd.to_datetime(df['date'])"
    ),
    nbf.v4.new_code_cell(
        "# Plot max and min temperatures\n"
        "plt.figure(figsize=(12, 6))\n\n"
        "plt.plot(df['date'], df['temp_max Addis'], label='Max Temp - Addis Ababa', marker='o')\n"
        "plt.plot(df['date'], df['temp_min Addis'], label='Min Temp - Addis Ababa', linestyle='--', marker='o')\n"
        "plt.plot(df['date'], df['temp_max Seattle'], label='Max Temp - Seattle', marker='s')\n"
        "plt.plot(df['date'], df['temp_min Seattle'], label='Min Temp - Seattle', linestyle='--', marker='s')\n\n"
        "plt.title('Daily High and Low Temperatures: Addis Ababa vs Seattle (April 17–27, 2025)')\n"
        "plt.xlabel('Date')\n"
        "plt.ylabel('Temperature (°F)')\n"
        "plt.xticks(rotation=45)\n"
        "plt.legend()\n"
        "plt.grid(True)\n"
        "plt.tight_layout()\n"
        "plt.show()"
    ),
    nbf.v4.new_code_cell(
        "# Convert precipitation columns to float\n"
        "df['precipitation Addis'] = df['precipitation Addis'].astype(float)\n"
        "df['precipitation Seattle'] = df['precipitation Seattle'].astype(float)\n\n"
        "# Plot precipitation\n"
        "plt.figure(figsize=(12, 6))\n\n"
        "plt.plot(df['date'], df['precipitation Addis'], label='Precipitation - Addis Ababa', marker='o')\n"
        "plt.plot(df['date'], df['precipitation Seattle'], label='Precipitation - Seattle', marker='s')\n\n"
        "plt.title('Daily Precipitation: Addis Ababa vs Seattle (April 17–27, 2025)')\n"
        "plt.xlabel('Date')\n"
        "plt.ylabel('Precipitation (inches)')\n"
        "plt.xticks(rotation=45)\n"
        "plt.legend()\n"
        "plt.grid(True)\n"
        "plt.tight_layout()\n"
        "plt.show()"
    )
]

# Assign IDs to cells
for i, cell in enumerate(cells):
    cell['id'] = f"cell-{i+1:02}"

# Assign to notebook
nb['cells'] = cells

# Add required Colab metadata
nb['metadata'] = {
    "colab": {
        "provenance": [],
        "authorship_tag": "ABX9TyMPColabLinkFinal",
        "include_colab_link": True
    },
    "kernelspec": {
        "name": "python3",
        "display_name": "Python 3"
    },
    "language_info": {
        "name": "python"
    }
}

# Save notebook
final_path = "/mnt/data/weather_comparison_colab.ipynb"
with open(final_path, "w", encoding="utf-8") as f:
    nbf.write(nb, f)

final_path
