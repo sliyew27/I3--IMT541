import nbformat as nbf

# Create a new notebook
nb = nbf.v4.new_notebook()

# Your GitHub raw CSV file links
url_addis = "https://raw.githubusercontent.com/sliyew27/I3--IMT541/main/addis_weather_apr_17_27.csv"
url_seattle = "https://raw.githubusercontent.com/sliyew27/I3--IMT541/main/seattle_weather_apr_17_27.csv"

# Markdown badge with Colab link
badge_md = (
    "<a href=\"https://colab.research.google.com/github/sliyew27/I3--IMT541/blob/main/weather_comparison_colab.ipynb\" "
    "target=\"_parent\">"
    "<img src=\"https://colab.research.google.com/assets/colab-badge.svg\" alt=\"Open In Colab\"/>"
    "</a>"
)

# Add cells
nb.cells = [
    nbf.v4.new_markdown_cell(badge_md, metadata={"id": "view-in-github", "colab_type": "text"}),
    nbf.v4.new_markdown_cell(
        "# Weather Data Comparison: Addis Ababa & Seattle (April 17–27, 2025)\n"
        "This notebook compares temperature and precipitation for two cities using CSV files hosted on GitHub.\n"
        "It will automatically load the data and show temperature and precipitation graphs."
    ),
    nbf.v4.new_code_cell(
        "import pandas as pd\nimport matplotlib.pyplot as plt"
    ),
    nbf.v4.new_code_cell(
        f"url_addis = '{url_addis}'\n"
        f"url_seattle = '{url_seattle}'\n"
        "addis_df = pd.read_csv(url_addis)\n"
        "seattle_df = pd.read_csv(url_seattle)"
    ),
    nbf.v4.new_code_cell(
        "addis_df['date'] = pd.to_datetime(addis_df['date'])\n"
        "seattle_df['date'] = pd.to_datetime(seattle_df['date'])"
    ),
    nbf.v4.new_code_cell(
        "# Temperature comparison\n"
        "plt.figure(figsize=(12, 6))\n"
        "plt.plot(addis_df['date'], addis_df['temp_max (°F)'], label='Addis Ababa Max Temp', marker='o')\n"
        "plt.plot(addis_df['date'], addis_df['temp_min (°F)'], label='Addis Ababa Min Temp', linestyle='--', marker='o')\n"
        "plt.plot(seattle_df['date'], seattle_df['temp_max (°F)'], label='Seattle Max Temp', marker='s')\n"
        "plt.plot(seattle_df['date'], seattle_df['temp_min (°F)'], label='Seattle Min Temp', linestyle='--', marker='s')\n"
        "plt.title('Temperature Comparison (°F) from April 17–27, 2025')\n"
        "plt.xlabel('Date')\n"
        "plt.ylabel('Temperature (°F)')\n"
        "plt.legend()\n"
        "plt.grid(True)\n"
        "plt.xticks(rotation=45)\n"
        "plt.tight_layout()\n"
        "plt.show()"
    ),
    nbf.v4.new_code_cell(
        "# Precipitation comparison\n"
        "plt.figure(figsize=(12, 6))\n"
        "plt.plot(addis_df['date'], addis_df['precipitation (inches)'], label='Addis Ababa Precipitation', marker='o')\n"
        "plt.plot(seattle_df['date'], seattle_df['precipitation (inches)'], label='Seattle Precipitation', marker='s')\n"
        "plt.title('Precipitation Comparison (inches) from April 17–27, 2025')\n"
        "plt.xlabel('Date')\n"
        "plt.ylabel('Precipitation (inches)')\n"
        "plt.legend()\n"
        "plt.grid(True)\n"
        "plt.xticks(rotation=45)\n"
        "plt.tight_layout()\n"
        "plt.show()"
    )
]

# Add necessary metadata
nb.metadata = {
    "colab": {
        "provenance": [],
        "authorship_tag": "ABX9TyMPc9hrOVzAxvnQNpqB+NwN",
        "include_colab_link": True
    },
    "kernelspec": {
        "name": "python3",
        "display_name": "Python 3"
    },
    "language_info": {
        "name": "python"
    }
}

# Save notebook
output_path = "/mnt/data/weather_comparison_colab.ipynb"
with open(output_path, "w", encoding="utf-8") as f:
    nbf.write(nb, f)

output_path
