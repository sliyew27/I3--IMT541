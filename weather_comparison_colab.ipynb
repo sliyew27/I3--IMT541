import nbformat as nbf

# Rebuild the notebook properly as valid JSON
nb = nbf.v4.new_notebook()

# Colab badge markdown cell (update the URL after uploading to GitHub)
badge_markdown = (
    "# Weather Data Comparison: Addis Ababa & Seattle (April 17–27, 2025)\n\n"
    "[![Open In Colab](https://colab.research.google.com/assets/colab-badge.svg)]"
    "(https://colab.research.google.com/github/YOUR_USERNAME/YOUR_REPO/blob/main/weather_comparison_colab.ipynb)\n\n"
    "This notebook compares temperature and precipitation for two cities using uploaded CSV files.\n"
    "Upload `addis_weather_apr_17_27.csv` and `seattle_weather_apr_17_27.csv` before running."
)

# Add markdown cell
nb.cells.append(nbf.v4.new_markdown_cell(badge_markdown))

# Add code cells
code_cells = [
    "import pandas as pd\nimport matplotlib.pyplot as plt",

    "# Load the datasets\n"
    "addis_df = pd.read_csv('addis_weather_apr_17_27.csv')\n"
    "seattle_df = pd.read_csv('seattle_weather_apr_17_27.csv')",

    "# Convert date column to datetime\n"
    "addis_df['date'] = pd.to_datetime(addis_df['date'])\n"
    "seattle_df['date'] = pd.to_datetime(seattle_df['date'])",

    "# Plot temperature range comparison\n"
    "plt.figure(figsize=(12, 6))\n"
    "plt.plot(addis_df['date'], addis_df['temp_max (°F)'], label='Addis Ababa Max Temp', marker='o')\n"
    "plt.plot(addis_df['date'], addis_df['temp_min (°F)'], label='Addis Ababa Min Temp', linestyle='--', marker='o')\n"
    "plt.plot(seattle_df['date'], seattle_df['temp_max (°F)'], label='Seattle Max Temp', marker='s')\n"
    "plt.plot(seattle_df['date'], seattle_df['temp_min (°F)'], label='Seattle Min Temp', linestyle='--', marker='s')\n"
    "plt.title('Temperature Comparison (°F) from April 17–27, 2025')\n"
    "plt.xlabel('Date')\n"
    "plt.ylabel('Temperature (°F)')\n"
    "plt.legend()\n"
    "plt.grid(True)\n"
    "plt.xticks(rotation=45)\n"
    "plt.tight_layout()\n"
    "plt.show()",

    "# Plot precipitation comparison\n"
    "plt.figure(figsize=(12, 6))\n"
    "plt.plot(addis_df['date'], addis_df['precipitation (inches)'], label='Addis Ababa Precipitation', marker='o')\n"
    "plt.plot(seattle_df['date'], seattle_df['precipitation (inches)'], label='Seattle Precipitation', marker='s')\n"
    "plt.title('Precipitation Comparison (inches) from April 17–27, 2025')\n"
    "plt.xlabel('Date')\n"
    "plt.ylabel('Precipitation (inches)')\n"
    "plt.legend()\n"
    "plt.grid(True)\n"
    "plt.xticks(rotation=45)\n"
    "plt.tight_layout()\n"
    "plt.show()"
]

for code in code_cells:
    nb.cells.append(nbf.v4.new_code_cell(code))

# Save the notebook
output_path = "/mnt/data/weather_comparison_colab.ipynb"
with open(output_path, "w", encoding="utf-8") as f:
    nbf.write(nb, f)

output_path
