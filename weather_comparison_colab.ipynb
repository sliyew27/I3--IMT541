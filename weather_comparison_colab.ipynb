# Update the notebook to include a Google Colab badge link at the top
# The badge will only be functional if the notebook is uploaded to GitHub in the correct repo path

colab_badge = """\
<a href="https://colab.research.google.com/github/sliyew27/I3--IMT541/blob/main/weather_comparison_colab.ipynb" target="_blank">
  <img src="https://colab.research.google.com/assets/colab-badge.svg" alt="Open in Colab"/>
</a>
"""

# Recreate notebook with the badge at the top
nb = nbf.v4.new_notebook()
nb['cells'] = [
    nbf.v4.new_markdown_cell(colab_badge),
    nbf.v4.new_markdown_cell("# Weather Comparison: Addis Ababa vs Seattle\n\nThis notebook visualizes the **maximum and minimum daily temperatures** between **April 17–27, 2025** for **Addis Ababa** and **Seattle** using a combined dataset."),
    nbf.v4.new_code_cell("""\
import pandas as pd
import matplotlib.pyplot as plt

# Load combined dataset
df = pd.read_csv("https://raw.githubusercontent.com/sliyew27/I3--IMT541/main/addis_seattle_combined_4_17_to_4_27.csv")

# Convert date column to datetime
df['date'] = pd.to_datetime(df['date'])

# Display first few rows
df.head()
"""),
    nbf.v4.new_code_cell("""\
# Plot temperature comparison
plt.figure(figsize=(12, 6))

plt.plot(df['date'], df['temp_max Addis'], label='Addis Max Temp (°F)', linewidth=2)
plt.plot(df['date'], df['temp_min Addis'], label='Addis Min Temp (°F)', linestyle='--')

plt.plot(df['date'], df['temp_max Seattle'], label='Seattle Max Temp (°F)', linewidth=2)
plt.plot(df['date'], df['temp_min Seattle'], label='Seattle Min Temp (°F)', linestyle='--')

plt.title('Daily Max & Min Temperatures: Addis Ababa vs Seattle (April 17–27, 2025)')
plt.xlabel('Date')
plt.ylabel('Temperature (°F)')
plt.grid(True)
plt.legend()
plt.tight_layout()
plt.show()
""")
]

# Save the updated notebook
final_path = "/mnt/data/weather_comparison_colab.ipynb"
with open(final_path, "w") as f:
    nbf.write(nb, f)

final_path
