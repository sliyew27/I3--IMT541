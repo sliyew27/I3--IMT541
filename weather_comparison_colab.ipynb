{
 "cells": [
  {
   "cell_type": "markdown",
   "id": "b70efacb",
   "metadata": {},
   "source": [
    "# Weather Comparison: Seattle vs Addis Ababa\n",
    "\n",
    "This notebook compares the **maximum and minimum daily temperatures** for Seattle and Addis Ababa using data pulled from CSV files hosted on GitHub.\n"
   ]
  },
  {
   "cell_type": "code",
   "execution_count": null,
   "id": "2a6b09b5",
   "metadata": {},
   "outputs": [],
   "source": [
    "import pandas as pd\n",
    "import matplotlib.pyplot as plt\n"
   ]
  },
  {
   "cell_type": "code",
   "execution_count": null,
   "id": "e93928cb",
   "metadata": {},
   "outputs": [],
   "source": [
    "# Load data from GitHub CSV links\n",
    "seattle_url = 'https://raw.githubusercontent.com/sliyew27/I3--IMT541/main/seattle_weather.csv'\n",
    "addis_url = 'https://raw.githubusercontent.com/sliyew27/I3--IMT541/main/addis_weather.csv'\n",
    "\n",
    "seattle = pd.read_csv(seattle_url)\n",
    "addis = pd.read_csv(addis_url)\n",
    "\n",
    "# Preview data\n",
    "seattle.head(), addis.head()\n"
   ]
  },
  {
   "cell_type": "code",
   "execution_count": null,
   "id": "97fc2a24",
   "metadata": {},
   "outputs": [],
   "source": [
    "# Ensure 'date' columns are datetime type\n",
    "seattle['date'] = pd.to_datetime(seattle['date'])\n",
    "addis['date'] = pd.to_datetime(addis['date'])\n",
    "\n",
    "# Plot max and min temperature comparison\n",
    "plt.figure(figsize=(12, 6))\n",
    "plt.plot(seattle['date'], seattle['max_temp_f'], label='Seattle Max Temp (F)', linewidth=2)\n",
    "plt.plot(seattle['date'], seattle['min_temp_f'], label='Seattle Min Temp (F)', linestyle='--')\n",
    "\n",
    "plt.plot(addis['date'], addis['max_temp_f'], label='Addis Ababa Max Temp (F)', linewidth=2)\n",
    "plt.plot(addis['date'], addis['min_temp_f'], label='Addis Ababa Min Temp (F)', linestyle='--')\n",
    "\n",
    "plt.title('Max and Min Daily Temperatures: Seattle vs Addis Ababa')\n",
    "plt.xlabel('Date')\n",
    "plt.ylabel('Temperature (°F)')\n",
    "plt.legend()\n",
    "plt.grid(True)\n",
    "plt.tight_layout()\n",
    "plt.show()\n"
   ]
  }
 ],
 "metadata": {},
 "nbformat": 4,
 "nbformat_minor": 5
}
