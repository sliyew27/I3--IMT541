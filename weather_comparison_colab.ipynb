{
 "cells": [
  {
   "cell_type": "markdown",
   "id": "9cc94925",
   "metadata": {
    "colab_type": "text",
    "id": "view-in-github"
   },
   "source": [
    "<a href=\"https://colab.research.google.com/github/sliyew27/I3--IMT541/blob/main/weather_comparison_colab.ipynb\" target=\"_parent\"><img src=\"https://colab.research.google.com/assets/colab-badge.svg\" alt=\"Open In Colab\"/></a>"
   ]
  },
  {
   "cell_type": "markdown",
   "id": "9ead3684",
   "metadata": {},
   "source": [
    "# Weather Data Comparison: Addis Ababa & Seattle (April 17–27, 2025)\n",
    "This notebook compares daily maximum and minimum temperatures, along with precipitation, between Addis Ababa and Seattle using a single combined CSV file."
   ]
  },
  {
   "cell_type": "code",
   "execution_count": null,
   "id": "b404512c",
   "metadata": {},
   "outputs": [],
   "source": [
    "import pandas as pd\n",
    "import matplotlib.pyplot as plt"
   ]
  },
  {
   "cell_type": "code",
   "execution_count": null,
   "id": "d5e9077d",
   "metadata": {},
   "outputs": [],
   "source": [
    "# Load the combined CSV from GitHub\n",
    "url = 'https://raw.githubusercontent.com/sliyew27/I3--IMT541/main/addis_seattle_combined_4_17_to_4_27.csv'\n",
    "df = pd.read_csv(url)"
   ]
  },
  {
   "cell_type": "code",
   "execution_count": null,
   "id": "901cdfa1",
   "metadata": {},
   "outputs": [],
   "source": [
    "# Convert the date column to datetime\n",
    "df['date'] = pd.to_datetime(df['date'])"
   ]
  },
  {
   "cell_type": "code",
   "execution_count": null,
   "id": "f3e32f28",
   "metadata": {},
   "outputs": [],
   "source": [
    "# Plot high and low temperatures for both cities\n",
    "plt.figure(figsize=(12, 6))\n",
    "plt.plot(df['date'], df['temp_max Addis'], label='Addis Ababa Max Temp', marker='o')\n",
    "plt.plot(df['date'], df['temp_min Addis'], label='Addis Ababa Min Temp', linestyle='--', marker='o')\n",
    "plt.plot(df['date'], df['temp_max Seattle'], label='Seattle Max Temp', marker='s')\n",
    "plt.plot(df['date'], df['temp_min Seattle'], label='Seattle Min Temp', linestyle='--', marker='s')\n",
    "plt.title('Temperature Comparison (°F) from April 17–27, 2025')\n",
    "plt.xlabel('Date')\n",
    "plt.ylabel('Temperature (°F)')\n",
    "plt.legend()\n",
    "plt.grid(True)\n",
    "plt.xticks(rotation=45)\n",
    "plt.tight_layout()\n",
    "plt.show()"
   ]
  },
  {
   "cell_type": "code",
   "execution_count": null,
   "id": "5a7977c1",
   "metadata": {},
   "outputs": [],
   "source": [
    "# Plot precipitation comparison\n",
    "plt.figure(figsize=(12, 6))\n",
    "plt.plot(df['date'], df['precipitation Addis'], label='Addis Ababa Precipitation', marker='o')\n",
    "plt.plot(df['date'], df['precipitation Seattle'], label='Seattle Precipitation', marker='s')\n",
    "plt.title('Precipitation Comparison (inches) from April 17–27, 2025')\n",
    "plt.xlabel('Date')\n",
    "plt.ylabel('Precipitation (inches)')\n",
    "plt.legend()\n",
    "plt.grid(True)\n",
    "plt.xticks(rotation=45)\n",
    "plt.tight_layout()\n",
    "plt.show()"
   ]
  }
 ],
 "metadata": {
  "colab": {
   "authorship_tag": "ABX9TyMPc9hrOVzAxvnQNpqB+NwN",
   "include_colab_link": true,
   "provenance": []
  },
  "kernelspec": {
   "display_name": "Python 3",
   "name": "python3"
  },
  "language_info": {
   "name": "python"
  }
 },
 "nbformat": 4,
 "nbformat_minor": 5
}
