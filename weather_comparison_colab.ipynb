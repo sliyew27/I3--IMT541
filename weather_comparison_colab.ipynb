{
 "cells": [
  {
   "cell_type": "markdown",
   "id": "8fd1ac7f",
   "metadata": {
    "colab_type": "text",
    "id": "view-in-github"
   },
   "source": [
    "<a href=\"https://colab.research.google.com/github/sliyew/I3--IMT541/blob/main/weather_comparison_colab.ipynb\" target=\"_parent\"><img src=\"https://colab.research.google.com/assets/colab-badge.svg\" alt=\"Open In Colab\"/></a>"
   ]
  },
  {
   "cell_type": "markdown",
   "id": "773fedc7",
   "metadata": {},
   "source": [
    "# Weather Data Comparison: Addis Ababa & Seattle (April 17–27, 2025)\n",
    "This notebook compares temperature and precipitation for two cities using uploaded CSV files.\n",
    "Upload `addis_weather_apr_17_27.csv` and `seattle_weather_apr_17_27.csv` before running."
   ]
  },
  {
   "cell_type": "code",
   "execution_count": null,
   "id": "61ec4064",
   "metadata": {},
   "outputs": [],
   "source": [
    "import pandas as pd\n",
    "import matplotlib.pyplot as plt"
   ]
  },
  {
   "cell_type": "code",
   "execution_count": null,
   "id": "0db84cd2",
   "metadata": {},
   "outputs": [],
   "source": [
    "addis_df = pd.read_csv('addis_weather_apr_17_27.csv')\n",
    "seattle_df = pd.read_csv('seattle_weather_apr_17_27.csv')"
   ]
  },
  {
   "cell_type": "code",
   "execution_count": null,
   "id": "dde4f8f6",
   "metadata": {},
   "outputs": [],
   "source": [
    "addis_df['date'] = pd.to_datetime(addis_df['date'])\n",
    "seattle_df['date'] = pd.to_datetime(seattle_df['date'])"
   ]
  },
  {
   "cell_type": "code",
   "execution_count": null,
   "id": "82ff061a",
   "metadata": {},
   "outputs": [],
   "source": [
    "# Temperature comparison\n",
    "plt.figure(figsize=(12, 6))\n",
    "plt.plot(addis_df['date'], addis_df['temp_max (°F)'], label='Addis Ababa Max Temp', marker='o')\n",
    "plt.plot(addis_df['date'], addis_df['temp_min (°F)'], label='Addis Ababa Min Temp', linestyle='--', marker='o')\n",
    "plt.plot(seattle_df['date'], seattle_df['temp_max (°F)'], label='Seattle Max Temp', marker='s')\n",
    "plt.plot(seattle_df['date'], seattle_df['temp_min (°F)'], label='Seattle Min Temp', linestyle='--', marker='s')\n",
    "plt.title('Temperature Comparison (°F) from April 17–27, 2025')\n",
    "plt.xlabel('Date')\n",
    "plt.ylabel('Temperature (°F)')\n",
    "plt.legend()\n",
    "plt.grid(True)\n",
    "plt.xticks(rotation=45)\n",
    "plt.tight_layout()\n",
    "plt.show()"
   ]
  },
  {
   "cell_type": "code",
   "execution_count": null,
   "id": "00542a57",
   "metadata": {},
   "outputs": [],
   "source": [
    "# Precipitation comparison\n",
    "plt.figure(figsize=(12, 6))\n",
    "plt.plot(addis_df['date'], addis_df['precipitation (inches)'], label='Addis Ababa Precipitation', marker='o')\n",
    "plt.plot(seattle_df['date'], seattle_df['precipitation (inches)'], label='Seattle Precipitation', marker='s')\n",
    "plt.title('Precipitation Comparison (inches) from April 17–27, 2025')\n",
    "plt.xlabel('Date')\n",
    "plt.ylabel('Precipitation (inches)')\n",
    "plt.legend()\n",
    "plt.grid(True)\n",
    "plt.xticks(rotation=45)\n",
    "plt.tight_layout()\n",
    "plt.show()"
   ]
  }
 ],
 "metadata": {
  "colab": {
   "authorship_tag": "ABX9TyMPc9hrOVzAxvnQNpqB+NwN",
   "include_colab_link": true,
   "provenance": []
  },
  "kernelspec": {
   "display_name": "Python 3",
   "name": "python3"
  },
  "language_info": {
   "name": "python"
  }
 },
 "nbformat": 4,
 "nbformat_minor": 5
}
