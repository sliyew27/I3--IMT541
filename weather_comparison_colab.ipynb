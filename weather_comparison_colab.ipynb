import nbformat as nbf

# Create a new Jupyter notebook
nb = nbf.v4.new_notebook()

# Google Colab badge
colab_badge = """\
<a href="https://colab.research.google.com/github/sliyew27/I3--IMT541/blob/main/weather_comparison_colab.ipynb" target="_blank">
  <img src="https://colab.research.google.com/assets/colab-badge.svg" alt="Open in Colab"/>
</a>
"""

# Markdown and code cells
cells = [
    nbf.v4.new_markdown_cell(colab_badge),
    nbf.v4.new_markdown_cell("# Weather Comparison: Addis Ababa vs Seattle (April 17–27, 2025)\n"
                              "\nThis notebook compares the daily **temperature** and **precipitation** between "
                              "**Addis Ababa** and **Seattle** over a 10-day period using structured CSV data.\n\n"
                              "It generates two visual graphs:\n"
                              "- Maximum and minimum daily temperatures\n"
                              "- Daily precipitation levels"),
    nbf.v4.new_code_cell("""\
import pandas as pd
import matplotlib.pyplot as plt

# Load the dataset (make sure this file is uploaded in your Colab session)
df = pd.read_csv("addis_seattle_combined_4_17_to_4_27.csv")

# Convert date column to datetime
df['date'] = pd.to_datetime(df['date'])
"""),
    nbf.v4.new_code_cell("""\
# Plot max and min temperatures
plt.figure(figsize=(12, 6))

plt.plot(df['date'], df['temp_max Addis'], label='Max Temp - Addis Ababa', marker='o')
plt.plot(df['date'], df['temp_min Addis'], label='Min Temp - Addis Ababa', linestyle='--', marker='o')
plt.plot(df['date'], df['temp_max Seattle'], label='Max Temp - Seattle', marker='s')
plt.plot(df['date'], df['temp_min Seattle'], label='Min Temp - Seattle', linestyle='--', marker='s')

plt.title('Daily High and Low Temperatures: Addis Ababa vs Seattle (April 17–27, 2025)')
plt.xlabel('Date')
plt.ylabel('Temperature (°F)')
plt.xticks(rotation=45)
plt.legend()
plt.grid(True)
plt.tight_layout()
plt.show()
"""),
    nbf.v4.new_code_cell("""\
# Convert precipitation columns to float
df['precipitation Addis'] = df['precipitation Addis'].astype(float)
df['precipitation Seattle'] = df['precipitation Seattle'].astype(float)

# Plot precipitation
plt.figure(figsize=(12, 6))

plt.plot(df['date'], df['precipitation Addis'], label='Precipitation - Addis Ababa', marker='o')
plt.plot(df['date'], df['precipitation Seattle'], label='Precipitation - Seattle', marker='s')

plt.title('Daily Precipitation: Addis Ababa vs Seattle (April 17–27, 2025)')
plt.xlabel('Date')
plt.ylabel('Precipitation (inches)')
plt.xticks(rotation=45)
plt.legend()
plt.grid(True)
plt.tight_layout()
plt.show()
""")
]

# Add cells to notebook
nb['cells'] = cells

# Save notebook to file
notebook_path = "/mnt/data/weather_comparison_colab.ipynb"
with open(notebook_path, "w") as f:
    nbf.write(nb, f)

notebook_path
