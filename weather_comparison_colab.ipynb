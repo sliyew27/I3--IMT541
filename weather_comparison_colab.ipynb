{
 "cells": [
  {
   "cell_type": "markdown",
   "id": "abe7faec",
   "metadata": {},
   "source": [
    "# Weather Comparison: Addis Ababa vs Seattle\n",
    "\n",
    "This notebook visualizes the **maximum and minimum daily temperatures** between **April 17–27, 2025** for **Addis Ababa** and **Seattle** using a combined dataset.\n"
   ]
  },
  {
   "cell_type": "code",
   "execution_count": null,
   "id": "bcbc66d2",
   "metadata": {},
   "outputs": [],
   "source": [
    "import pandas as pd\n",
    "import matplotlib.pyplot as plt\n",
    "\n",
    "# Load combined dataset\n",
    "df = pd.read_csv(\"https://raw.githubusercontent.com/sliyew27/I3--IMT541/main/addis_seattle_combined_4_17_to_4_27.csv\")\n",
    "\n",
    "# Convert date column to datetime\n",
    "df['date'] = pd.to_datetime(df['date'])\n",
    "\n",
    "# Display first few rows\n",
    "df.head()\n"
   ]
  },
  {
   "cell_type": "code",
   "execution_count": null,
   "id": "98e86846",
   "metadata": {},
   "outputs": [],
   "source": [
    "# Plot temperature comparison\n",
    "plt.figure(figsize=(12, 6))\n",
    "\n",
    "plt.plot(df['date'], df['temp_max Addis'], label='Addis Max Temp (°F)', linewidth=2)\n",
    "plt.plot(df['date'], df['temp_min Addis'], label='Addis Min Temp (°F)', linestyle='--')\n",
    "\n",
    "plt.plot(df['date'], df['temp_max Seattle'], label='Seattle Max Temp (°F)', linewidth=2)\n",
    "plt.plot(df['date'], df['temp_min Seattle'], label='Seattle Min Temp (°F)', linestyle='--')\n",
    "\n",
    "plt.title('Daily Max & Min Temperatures: Addis Ababa vs Seattle (April 17–27, 2025)')\n",
    "plt.xlabel('Date')\n",
    "plt.ylabel('Temperature (°F)')\n",
    "plt.grid(True)\n",
    "plt.legend()\n",
    "plt.tight_layout()\n",
    "plt.show()\n"
   ]
  }
 ],
 "metadata": {},
 "nbformat": 4,
 "nbformat_minor": 5
}
