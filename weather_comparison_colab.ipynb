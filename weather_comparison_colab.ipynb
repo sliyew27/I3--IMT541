import nbformat as nbf

# Create a new updated notebook
nb = nbf.v4.new_notebook()

# GitHub and Colab badge markdown cell
badge_md = (
    "<a href=\"https://colab.research.google.com/github/sliyew27/I3--IMT541/blob/main/weather_comparison_colab.ipynb\" "
    "target=\"_parent\">"
    "<img src=\"https://colab.research.google.com/assets/colab-badge.svg\" alt=\"Open In Colab\"/>"
    "</a>"
)

# Updated code cells with matplotlib import inside each plotting cell
code_cells = [
    "import pandas as pd",

    "# Load the combined CSV from GitHub\n"
    "url = 'https://raw.githubusercontent.com/sliyew27/I3--IMT541/main/addis_seattle_combined_4_17_to_4_27.csv'\n"
    "df = pd.read_csv(url)",

    "# Convert the date column to datetime\n"
    "df['date'] = pd.to_datetime(df['date'])",

    "# Plot high and low temperatures for both cities\n"
    "import matplotlib.pyplot as plt\n"
    "plt.figure(figsize=(12, 6))\n"
    "plt.plot(df['date'], df['temp_max Addis'], label='Addis Ababa Max Temp', marker='o')\n"
    "plt.plot(df['date'], df['temp_min Addis'], label='Addis Ababa Min Temp', linestyle='--', marker='o')\n"
    "plt.plot(df['date'], df['temp_max Seattle'], label='Seattle Max Temp', marker='s')\n"
    "plt.plot(df['date'], df['temp_min Seattle'], label='Seattle Min Temp', linestyle='--', marker='s')\n"
    "plt.title('Temperature Comparison (°F) from April 17–27, 2025')\n"
    "plt.xlabel('Date')\n"
    "plt.ylabel('Temperature (°F)')\n"
    "plt.legend()\n"
    "plt.grid(True)\n"
    "plt.xticks(rotation=45)\n"
    "plt.tight_layout()\n"
    "plt.show()",

    "# Plot precipitation comparison\n"
    "import matplotlib.pyplot as plt\n"
    "plt.figure(figsize=(12, 6))\n"
    "plt.plot(df['date'], df['precipitation Addis'], label='Addis Ababa Precipitation', marker='o')\n"
    "plt.plot(df['date'], df['precipitation Seattle'], label='Seattle Precipitation', marker='s')\n"
    "plt.title('Precipitation Comparison (inches) from April 17–27, 2025')\n"
    "plt.xlabel('Date')\n"
    "plt.ylabel('Precipitation (inches)')\n"
    "plt.legend()\n"
    "plt.grid(True)\n"
    "plt.xticks(rotation=45)\n"
    "plt.tight_layout()\n"
    "plt.show()"
]

# Assemble the notebook
nb.cells = [
    nbf.v4.new_markdown_cell(badge_md, metadata={"id": "view-in-github", "colab_type": "text"}),
    nbf.v4.new_markdown_cell(
        "# Weather Data Comparison: Addis Ababa & Seattle (April 17–27, 2025)\n"
        "This notebook compares daily maximum and minimum temperatures, along with precipitation, "
        "between Addis Ababa and Seattle using a single combined CSV file."
    )
] + [nbf.v4.new_code_cell(code) for code in code_cells]

# Required metadata for Colab
nb.metadata = {
    "colab": {
        "provenance": [],
        "authorship_tag": "ABX9TyMPc9hrOVzAxvnQNpqB+NwN",
        "include_colab_link": True
    },
    "kernelspec": {
        "name": "python3",
        "display_name": "Python 3"
    },
    "language_info": {
        "name": "python"
    }
}

# Save updated notebook
fixed_colab_path = "/mnt/data/weather_comparison_colab.ipynb"
with open(fixed_colab_path, "w", encoding="utf-8") as f:
    nbf.write(nb, f)

fixed_colab_path
