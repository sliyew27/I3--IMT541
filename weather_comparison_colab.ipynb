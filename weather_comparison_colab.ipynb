{
 "cells": [
  {
   "cell_type": "code",
   "execution_count": null,
   "id": "4e52cdbc",
   "metadata": {},
   "outputs": [],
   "source": [
    "# Weather Data Comparison: Addis Ababa & Seattle (April 17–27, 2025)\n",
    "# This notebook compares temperature and precipitation for two cities using uploaded CSV files.\n",
    "# Upload `addis_weather_apr_17_27.csv` and `seattle_weather_apr_17_27.csv` before running."
   ]
  },
  {
   "cell_type": "code",
   "execution_count": null,
   "id": "303fa5c8",
   "metadata": {},
   "outputs": [],
   "source": [
    "import pandas as pd\n",
    "import matplotlib.pyplot as plt"
   ]
  },
  {
   "cell_type": "code",
   "execution_count": null,
   "id": "a41dca1d",
   "metadata": {},
   "outputs": [],
   "source": [
    "# Load the datasets\n",
    "addis_df = pd.read_csv('addis_weather_apr_17_27.csv')\n",
    "seattle_df = pd.read_csv('seattle_weather_apr_17_27.csv')"
   ]
  },
  {
   "cell_type": "code",
   "execution_count": null,
   "id": "46ae2aac",
   "metadata": {},
   "outputs": [],
   "source": [
    "# Convert date column to datetime\n",
    "addis_df['date'] = pd.to_datetime(addis_df['date'])\n",
    "seattle_df['date'] = pd.to_datetime(seattle_df['date'])"
   ]
  },
  {
   "cell_type": "code",
   "execution_count": null,
   "id": "cda663c7",
   "metadata": {},
   "outputs": [],
   "source": [
    "# Plot temperature range comparison\n",
    "plt.figure(figsize=(12, 6))\n",
    "plt.plot(addis_df['date'], addis_df['temp_max (°F)'], label='Addis Ababa Max Temp', marker='o')\n",
    "plt.plot(addis_df['date'], addis_df['temp_min (°F)'], label='Addis Ababa Min Temp', linestyle='--', marker='o')\n",
    "plt.plot(seattle_df['date'], seattle_df['temp_max (°F)'], label='Seattle Max Temp', marker='s')\n",
    "plt.plot(seattle_df['date'], seattle_df['temp_min (°F)'], label='Seattle Min Temp', linestyle='--', marker='s')\n",
    "plt.title('Temperature Comparison (°F) from April 17–27, 2025')\n",
    "plt.xlabel('Date')\n",
    "plt.ylabel('Temperature (°F)')\n",
    "plt.legend()\n",
    "plt.grid(True)\n",
    "plt.xticks(rotation=45)\n",
    "plt.tight_layout()\n",
    "plt.show()"
   ]
  },
  {
   "cell_type": "code",
   "execution_count": null,
   "id": "03e89bf1",
   "metadata": {},
   "outputs": [],
   "source": [
    "# Plot precipitation comparison\n",
    "plt.figure(figsize=(12, 6))\n",
    "plt.plot(addis_df['date'], addis_df['precipitation (inches)'], label='Addis Ababa Precipitation', marker='o')\n",
    "plt.plot(seattle_df['date'], seattle_df['precipitation (inches)'], label='Seattle Precipitation', marker='s')\n",
    "plt.title('Precipitation Comparison (inches) from April 17–27, 2025')\n",
    "plt.xlabel('Date')\n",
    "plt.ylabel('Precipitation (inches)')\n",
    "plt.legend()\n",
    "plt.grid(True)\n",
    "plt.xticks(rotation=45)\n",
    "plt.tight_layout()\n",
    "plt.show()"
   ]
  }
 ],
 "metadata": {},
 "nbformat": 4,
 "nbformat_minor": 5
}
